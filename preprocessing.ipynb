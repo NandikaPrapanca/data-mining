{
  "nbformat": 4,
  "nbformat_minor": 0,
  "metadata": {
    "colab": {
      "provenance": [],
      "authorship_tag": "ABX9TyNfnF8Cc1Bxq6/bty8+EbCl",
      "include_colab_link": true
    },
    "kernelspec": {
      "name": "python3",
      "display_name": "Python 3"
    },
    "language_info": {
      "name": "python"
    }
  },
  "cells": [
    {
      "cell_type": "markdown",
      "metadata": {
        "id": "view-in-github",
        "colab_type": "text"
      },
      "source": [
        "<a href=\"https://colab.research.google.com/github/NandikaPrapanca/data-mining/blob/main/preprocessing.ipynb\" target=\"_parent\"><img src=\"https://colab.research.google.com/assets/colab-badge.svg\" alt=\"Open In Colab\"/></a>"
      ]
    },
    {
      "cell_type": "code",
      "execution_count": null,
      "metadata": {
        "id": "L-b7ip4ya-b3"
      },
      "outputs": [],
      "source": [
        "import numpy as np\n",
        "import matplotlib.pyplot as plt\n",
        "import pandas as pd"
      ]
    },
    {
      "cell_type": "code",
      "source": [
        "dataset = pd.read_csv('random_data.csv', delimiter=';')\n",
        "x = dataset.iloc[:, :-1].values\n",
        "y = dataset.iloc[:, -1].values"
      ],
      "metadata": {
        "id": "fcRiebFyb6gi"
      },
      "execution_count": null,
      "outputs": []
    },
    {
      "cell_type": "code",
      "source": [
        "print(x)"
      ],
      "metadata": {
        "colab": {
          "base_uri": "https://localhost:8080/"
        },
        "id": "0cOe-H2sc2Ji",
        "outputId": "8f245ea9-6433-49b1-887c-7b29b7e484d1"
      },
      "execution_count": null,
      "outputs": [
        {
          "output_type": "stream",
          "name": "stdout",
          "text": [
            "[['Germany' 28.0 77612.0]\n",
            " ['Portugal' 49.0 43817.0]\n",
            " ['Portugal' 44.0 84420.0]\n",
            " ['Portugal' 41.0 nan]\n",
            " ['Germany' 40.0 57423.0]\n",
            " ['Spain' nan 73403.0]\n",
            " ['Italy' 49.0 63883.0]\n",
            " ['Portugal' 55.0 47932.0]\n",
            " ['Italy' 50.0 88944.0]\n",
            " ['Spain' 50.0 65276.0]]\n"
          ]
        }
      ]
    },
    {
      "cell_type": "code",
      "source": [
        "print(y)"
      ],
      "metadata": {
        "colab": {
          "base_uri": "https://localhost:8080/"
        },
        "id": "i14kdpSXdMZg",
        "outputId": "fd6424f3-8524-44de-c8f6-2639085390df"
      },
      "execution_count": null,
      "outputs": [
        {
          "output_type": "stream",
          "name": "stdout",
          "text": [
            "['Yes' 'Yes' 'Yes' 'Yes' 'No' 'Yes' 'No' 'Yes' 'No' 'Yes']\n"
          ]
        }
      ]
    },
    {
      "cell_type": "code",
      "source": [
        "from sklearn.impute import SimpleImputer\n",
        "imputer = SimpleImputer(missing_values=np.nan, strategy='mean')\n",
        "x[:, 1:3] = imputer.fit_transform(x[:, 1:3].astype(float))\n",
        "x[:, 1:3] = imputer.transform(x[:, 1:3])"
      ],
      "metadata": {
        "id": "Xp-au1lGgz4I"
      },
      "execution_count": null,
      "outputs": []
    },
    {
      "cell_type": "code",
      "source": [
        "print(x)"
      ],
      "metadata": {
        "colab": {
          "base_uri": "https://localhost:8080/"
        },
        "id": "NjxAsXvNhozm",
        "outputId": "247456bb-b2c3-49bb-cc6c-0d9e301fb623"
      },
      "execution_count": null,
      "outputs": [
        {
          "output_type": "stream",
          "name": "stdout",
          "text": [
            "[['Germany' 28.0 77612.0]\n",
            " ['Portugal' 49.0 43817.0]\n",
            " ['Portugal' 44.0 84420.0]\n",
            " ['Portugal' 41.0 66967.77777777778]\n",
            " ['Germany' 40.0 57423.0]\n",
            " ['Spain' 45.111111111111114 73403.0]\n",
            " ['Italy' 49.0 63883.0]\n",
            " ['Portugal' 55.0 47932.0]\n",
            " ['Italy' 50.0 88944.0]\n",
            " ['Spain' 50.0 65276.0]]\n"
          ]
        }
      ]
    },
    {
      "cell_type": "code",
      "source": [
        "from sklearn.compose import ColumnTransformer\n",
        "from sklearn.preprocessing import OneHotEncoder\n",
        "ct = ColumnTransformer(transformers=[('encoder', OneHotEncoder(), [0])], remainder='passthrough')\n",
        "x = np.array(ct.fit_transform(x))"
      ],
      "metadata": {
        "id": "h9r__7bFiNO5"
      },
      "execution_count": null,
      "outputs": []
    },
    {
      "cell_type": "code",
      "source": [
        "print(x)"
      ],
      "metadata": {
        "colab": {
          "base_uri": "https://localhost:8080/"
        },
        "id": "ebvp6IH3jsdf",
        "outputId": "3c20c3f8-23ac-47b0-8858-6db959565835"
      },
      "execution_count": null,
      "outputs": [
        {
          "output_type": "stream",
          "name": "stdout",
          "text": [
            "[[1.0 0.0 0.0 0.0 28.0 77612.0]\n",
            " [0.0 0.0 1.0 0.0 49.0 43817.0]\n",
            " [0.0 0.0 1.0 0.0 44.0 84420.0]\n",
            " [0.0 0.0 1.0 0.0 41.0 66967.77777777778]\n",
            " [1.0 0.0 0.0 0.0 40.0 57423.0]\n",
            " [0.0 0.0 0.0 1.0 45.111111111111114 73403.0]\n",
            " [0.0 1.0 0.0 0.0 49.0 63883.0]\n",
            " [0.0 0.0 1.0 0.0 55.0 47932.0]\n",
            " [0.0 1.0 0.0 0.0 50.0 88944.0]\n",
            " [0.0 0.0 0.0 1.0 50.0 65276.0]]\n"
          ]
        }
      ]
    },
    {
      "cell_type": "code",
      "source": [
        "from sklearn.preprocessing import LabelEncoder\n",
        "le = LabelEncoder()\n",
        "y = le.fit_transform(y)"
      ],
      "metadata": {
        "id": "C8Z2tTEIj7gy"
      },
      "execution_count": null,
      "outputs": []
    },
    {
      "cell_type": "code",
      "source": [
        "print(y)"
      ],
      "metadata": {
        "colab": {
          "base_uri": "https://localhost:8080/"
        },
        "id": "eEzoIOq9kFqk",
        "outputId": "ea17a7f9-f9d9-411e-da4e-52dfdccd4b83"
      },
      "execution_count": null,
      "outputs": [
        {
          "output_type": "stream",
          "name": "stdout",
          "text": [
            "[1 1 1 1 0 1 0 1 0 1]\n"
          ]
        }
      ]
    },
    {
      "cell_type": "code",
      "source": [
        "from sklearn.model_selection import train_test_split\n",
        "x_train, x_test, y_train, y_test = train_test_split(x, y, test_size=0.2, random_state=1)"
      ],
      "metadata": {
        "id": "6fPdkpBxkRmg"
      },
      "execution_count": null,
      "outputs": []
    },
    {
      "cell_type": "code",
      "source": [
        "print(x_train)"
      ],
      "metadata": {
        "colab": {
          "base_uri": "https://localhost:8080/"
        },
        "id": "8pSpV2J4kwG6",
        "outputId": "dbd11bfb-d83d-4b0f-c85c-04af393d1b8a"
      },
      "execution_count": null,
      "outputs": [
        {
          "output_type": "stream",
          "name": "stdout",
          "text": [
            "[[0.0 1.0 0.0 0.0 49.0 63883.0]\n",
            " [1.0 0.0 0.0 0.0 40.0 57423.0]\n",
            " [1.0 0.0 0.0 0.0 28.0 77612.0]\n",
            " [0.0 0.0 1.0 0.0 41.0 66967.77777777778]\n",
            " [0.0 0.0 1.0 0.0 49.0 43817.0]\n",
            " [0.0 0.0 1.0 0.0 55.0 47932.0]\n",
            " [0.0 1.0 0.0 0.0 50.0 88944.0]\n",
            " [0.0 0.0 0.0 1.0 45.111111111111114 73403.0]]\n"
          ]
        }
      ]
    },
    {
      "cell_type": "code",
      "source": [
        "print(x_test)"
      ],
      "metadata": {
        "colab": {
          "base_uri": "https://localhost:8080/"
        },
        "id": "i79L-s3olAae",
        "outputId": "8477a3cf-ce16-412f-fed7-6242000e0f16"
      },
      "execution_count": null,
      "outputs": [
        {
          "output_type": "stream",
          "name": "stdout",
          "text": [
            "[[0.0 0.0 1.0 0.0 44.0 84420.0]\n",
            " [0.0 0.0 0.0 1.0 50.0 65276.0]]\n"
          ]
        }
      ]
    },
    {
      "cell_type": "code",
      "source": [
        "print(y_train)"
      ],
      "metadata": {
        "colab": {
          "base_uri": "https://localhost:8080/"
        },
        "id": "KufFvB4AlL8p",
        "outputId": "505f1cd3-24f5-439b-fdf6-dd42ee65384a"
      },
      "execution_count": null,
      "outputs": [
        {
          "output_type": "stream",
          "name": "stdout",
          "text": [
            "[0 0 1 1 1 1 0 1]\n"
          ]
        }
      ]
    },
    {
      "cell_type": "code",
      "source": [
        "print(y_test)"
      ],
      "metadata": {
        "colab": {
          "base_uri": "https://localhost:8080/"
        },
        "id": "M-GUAXMwlOgX",
        "outputId": "2a0cf75c-11d1-455a-e06e-38bd7acd7a95"
      },
      "execution_count": null,
      "outputs": [
        {
          "output_type": "stream",
          "name": "stdout",
          "text": [
            "[1 1]\n"
          ]
        }
      ]
    },
    {
      "cell_type": "code",
      "source": [
        "from sklearn.preprocessing import StandardScaler\n",
        "sc = StandardScaler()\n",
        "x_train[:, 3:] = sc.fit_transform(x_train[:, 3:])\n",
        "x_test[:, 3:] = sc.transform(x_test[:, 3:])"
      ],
      "metadata": {
        "id": "zq13y2gplWdR"
      },
      "execution_count": null,
      "outputs": []
    },
    {
      "cell_type": "code",
      "source": [
        "print(x_train)"
      ],
      "metadata": {
        "colab": {
          "base_uri": "https://localhost:8080/"
        },
        "id": "RI87_JFomL_Q",
        "outputId": "edfb028c-fc63-4cf1-d941-d7fd4751b750"
      },
      "execution_count": null,
      "outputs": [
        {
          "output_type": "stream",
          "name": "stdout",
          "text": [
            "[[0.0 1.0 0.0 -0.3779644730092272 0.5595485842272204 -0.07868628989069082]\n",
            " [1.0 0.0 0.0 -0.3779644730092272 -0.5951886214391444 -0.5346863790254806]\n",
            " [1.0 0.0 0.0 -0.3779644730092272 -2.1348382289942975 0.8904197818943754]\n",
            " [0.0 0.0 1.0 -0.3779644730092272 -0.46688448747621497 0.1390627722807777]\n",
            " [0.0 0.0 1.0 -0.3779644730092272 0.5595485842272204 -1.495110096172222]\n",
            " [0.0 0.0 1.0 -0.3779644730092272 1.3293733880047969 -1.2046394511583427]\n",
            " [0.0 1.0 0.0 -0.3779644730092272 0.6878527181901498 1.6903258206057434]\n",
            " [0.0 0.0 0.0 2.6457513110645903 0.06058806326027304 0.5933138414658414]]\n"
          ]
        }
      ]
    },
    {
      "cell_type": "code",
      "source": [
        "print(x_test)"
      ],
      "metadata": {
        "colab": {
          "base_uri": "https://localhost:8080/"
        },
        "id": "wH0sjSjJmPss",
        "outputId": "a81999f1-4c27-4918-a1cf-8931cd4e375c"
      },
      "execution_count": null,
      "outputs": [
        {
          "output_type": "stream",
          "name": "stdout",
          "text": [
            "[[0.0 0.0 1.0 -0.3779644730092272 -0.08197208558742673 1.3709845817132065]\n",
            " [0.0 0.0 0.0 2.6457513110645903 0.6878527181901498 0.01964314109456646]]\n"
          ]
        }
      ]
    }
  ]
}